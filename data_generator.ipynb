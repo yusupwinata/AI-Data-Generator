{
 "cells": [
  {
   "cell_type": "markdown",
   "id": "c126cca7-b533-4ae3-9548-5ecf10b2a9ed",
   "metadata": {},
   "source": [
    "# Initial Setup"
   ]
  },
  {
   "cell_type": "code",
   "execution_count": 1,
   "id": "3eda6a5a-2823-45c9-bfe6-9643f7911d77",
   "metadata": {},
   "outputs": [],
   "source": [
    "import os\n",
    "import torch\n",
    "import gradio as gr\n",
    "from dotenv import load_dotenv\n",
    "from huggingface_hub import login\n",
    "from transformers import BitsAndBytesConfig, AutoModelForCausalLM\n",
    "from transformers import AutoTokenizer, TextStreamer"
   ]
  },
  {
   "cell_type": "code",
   "execution_count": 2,
   "id": "5f6f262a-4ba5-47d4-bc94-3602a29aae16",
   "metadata": {},
   "outputs": [],
   "source": [
    "# Device\n",
    "device = \"cuda\" if torch.cuda.is_available() else \"cpu\""
   ]
  },
  {
   "cell_type": "code",
   "execution_count": 3,
   "id": "28470098-9cb2-4f2b-b40a-e323cbe59b3f",
   "metadata": {},
   "outputs": [],
   "source": [
    "# Login\n",
    "load_dotenv(override=True)\n",
    "HF_TOKEN = os.getenv(\"HUGGINGFACE_TOKEN\", \"type-your-token-here\")\n",
    "login(HF_TOKEN)"
   ]
  },
  {
   "cell_type": "code",
   "execution_count": 4,
   "id": "5e88fb97-f3e5-4e2a-a825-66f3774911c0",
   "metadata": {},
   "outputs": [],
   "source": [
    "# Models\n",
    "LLAMA = \"meta-llama/Llama-3.2-3B-Instruct\""
   ]
  },
  {
   "cell_type": "code",
   "execution_count": 6,
   "id": "650b6987-8378-44de-b32e-837f4164665d",
   "metadata": {},
   "outputs": [
    {
     "data": {
      "application/vnd.jupyter.widget-view+json": {
       "model_id": "1092aae61f294db68cbb074f600aa809",
       "version_major": 2,
       "version_minor": 0
      },
      "text/plain": [
       "Loading checkpoint shards:   0%|          | 0/2 [00:00<?, ?it/s]"
      ]
     },
     "metadata": {},
     "output_type": "display_data"
    }
   ],
   "source": [
    "# Load model\n",
    "quantization_config = BitsAndBytesConfig(\n",
    "    load_in_4bit=True,\n",
    "    bnb_4bit_use_double_quant=True,\n",
    "    bnb_4bit_compute_dtype=torch.bfloat16,\n",
    "    bnb_4bit_quant_type=\"nf4\"\n",
    ")\n",
    "\n",
    "llama = AutoModelForCausalLM.from_pretrained(\n",
    "    LLAMA,\n",
    "    device_map=\"auto\",\n",
    "    quantization_config=quantization_config\n",
    ")\n",
    "\n",
    "# Load tokenizer\n",
    "tokenizer = AutoTokenizer.from_pretrained(LLAMA)\n",
    "tokenizer.pad_token = tokenizer.eos_token\n",
    "\n",
    "streamer = TextStreamer(tokenizer)"
   ]
  },
  {
   "cell_type": "markdown",
   "id": "4a152739-f91c-4cc0-81a7-ca557c19b52d",
   "metadata": {},
   "source": [
    "# Prompting"
   ]
  },
  {
   "cell_type": "code",
   "execution_count": 124,
   "id": "8453aaf7-af1d-4d8a-8254-12636569e3c0",
   "metadata": {},
   "outputs": [
    {
     "name": "stdout",
     "output_type": "stream",
     "text": [
      "Generate data that has 100 rows.\n",
      "The data has column names as follows:\n",
      "Name, sex, address\n",
      "Additional information: There should be no duplicate data.\n",
      "Returns the generated data only in as raw CSV format, with no explanations, code, and any other formatting.\n"
     ]
    }
   ],
   "source": [
    "def generate_system_prompt_for_structured_data(data_structure: str) -> str:\n",
    "    if data_structure == \"CSV\":\n",
    "        data_structure = \"as raw CSV\"\n",
    "    elif data_structure == \"JSON\":\n",
    "        data_structure = \"in JSON\"\n",
    "    system_prompt =  \"You are skilled at generating data for data science or machine learning engineering purposes based on user requests. \"\n",
    "    system_prompt += f\"Returns the generated data only {data_structure} format, with no explanations, code, and any other formatting.\"\n",
    "    return system_prompt\n",
    "\n",
    "def generate_user_prompt_for_structured_data(col_names: str, row_num: int, data_structure: str, additional_info: str=\"\") -> str:\n",
    "    user_prompt = f\"Generate data that has {row_num} rows.\\n\"\n",
    "    user_prompt += f\"The data has column names as follows:\\n\"\n",
    "    user_prompt += f\"{col_names}\\n\"\n",
    "    if additional_info:\n",
    "        user_prompt += f\"Additional information: {additional_info}\\n\"\n",
    "        \n",
    "    if data_structure == \"CSV\":\n",
    "        data_structure = \"as raw CSV\"\n",
    "    elif data_structure == \"JSON\":\n",
    "        data_structure = \"in JSON\"\n",
    "    user_prompt += f\"Returns the generated data only in {data_structure} format, with no explanations, code, and any other formatting.\"\n",
    "    \n",
    "    return user_prompt\n",
    "\n",
    "def generate_messages_for_structured_data(col_names: str, row_num: int, data_structure: str, additional_info: str=\"\") -> list:\n",
    "    system_prompt = generate_system_prompt_for_structured_data(data_structure)\n",
    "    user_prompt = generate_user_prompt_for_structured_data(col_names, row_num, data_structure, additional_info)\n",
    "\n",
    "    return [\n",
    "        {\"role\": \"system\", \"content\": system_prompt},\n",
    "        {\"role\": \"user\", \"content\": user_prompt}\n",
    "    ]\n",
    "\n",
    "# Testing\n",
    "test = generate_messages_for_structured_data(\n",
    "    col_names=\"Name, sex, address\",\n",
    "    row_num=100,\n",
    "    data_structure=\"CSV\",\n",
    "    additional_info=\"There should be no duplicate data.\"\n",
    ")\n",
    "print(test[1]['content'])"
   ]
  },
  {
   "cell_type": "code",
   "execution_count": 125,
   "id": "d9893195-a15c-4e24-bc7c-a7b0a6c8b71e",
   "metadata": {},
   "outputs": [
    {
     "name": "stdout",
     "output_type": "stream",
     "text": [
      "Generate text based on the following description:\n",
      "The story of my life.\n",
      "Returns the generated text only without any explanations.\n"
     ]
    }
   ],
   "source": [
    "def generate_system_prompt_for_unstructured_data() -> str:\n",
    "    system_prompt = \"You are an expert in generating text data based on user requests. \"\n",
    "    system_prompt += \"Returns the generated text only without any explanations.\"\n",
    "    return system_prompt\n",
    "\n",
    "def generate_user_prompt_for_unstructured_data(data_description: str) -> str:\n",
    "    user_prompt = \"Generate text based on the following description:\\n\"\n",
    "    user_prompt += f\"{data_description}\\n\"\n",
    "    user_prompt += \"Returns the generated text only without any explanations.\"\n",
    "    return user_prompt\n",
    "\n",
    "def generate_messages_for_unstructured_data(data_description: str) -> list:\n",
    "    system_prompt = generate_system_prompt_for_unstructured_data()\n",
    "    user_prompt = generate_user_prompt_for_unstructured_data(data_description)\n",
    "    return [\n",
    "        {\"role\": \"system\", \"content\": system_prompt},\n",
    "        {\"role\": \"user\", \"content\": user_prompt}\n",
    "    ]\n",
    "\n",
    "test = generate_messages_for_unstructured_data(\"The story of my life.\")\n",
    "print(test[1]['content'])"
   ]
  },
  {
   "cell_type": "markdown",
   "id": "bee15117-25f7-41f4-a33b-ac8dfcaf3944",
   "metadata": {},
   "source": [
    "# Inferencing"
   ]
  },
  {
   "cell_type": "code",
   "execution_count": 126,
   "id": "457f91f1-9b48-47ff-94b2-65f42e3c040a",
   "metadata": {},
   "outputs": [],
   "source": [
    "def extract_text(decoded: str) -> str:\n",
    "    \"\"\"Extract assistant reply from chat-formatted LLaMA output\"\"\"\n",
    "    try:\n",
    "        return decoded.split(\"<|start_header_id|>assistant<|end_header_id|>\")[-1].split(\"<|eot_id|>\")[0].strip()\n",
    "    except Exception:\n",
    "        return decoded.strip()\n",
    "\n",
    "def inferencing(messages: list) -> str:\n",
    "    \"\"\"Generate LLaMA output\"\"\"\n",
    "    # Tokenize\n",
    "    inputs = tokenizer.apply_chat_template(\n",
    "        messages,\n",
    "        return_tensors=\"pt\"\n",
    "    ).to(device)\n",
    "\n",
    "    # Inference\n",
    "    outputs = llama.generate(\n",
    "        inputs,\n",
    "        max_new_tokens=5000\n",
    "    )\n",
    "\n",
    "    # Extract response\n",
    "    decoded = tokenizer.decode(outputs[0])\n",
    "    response = extract_text(decoded)    \n",
    "    return response\n",
    "\n",
    "def generate_structured_data(col_names: str, row_num: int, data_structure: str, additional_info: str=\"\") -> str:\n",
    "    messages = generate_messages_for_structured_data(\n",
    "        col_names,\n",
    "        row_num,\n",
    "        data_structure,\n",
    "        additional_info\n",
    "    )\n",
    "    generated_data = inferencing(messages)\n",
    "    return generated_data\n",
    "\n",
    "def generate_unstructured_data(data_description: str) -> str:\n",
    "    messages = generate_messages_for_unstructured_data(data_description)\n",
    "    generated_data = inferencing(messages)\n",
    "    return generated_data"
   ]
  },
  {
   "cell_type": "markdown",
   "id": "1be29c69-e970-4ba0-9972-c8f040d33f89",
   "metadata": {},
   "source": [
    "# UI"
   ]
  },
  {
   "cell_type": "code",
   "execution_count": 129,
   "id": "4d2e42c2-5a58-4be6-a35c-f5623ba07990",
   "metadata": {
    "scrolled": true
   },
   "outputs": [
    {
     "name": "stdout",
     "output_type": "stream",
     "text": [
      "* Running on local URL:  http://127.0.0.1:7900\n",
      "* To create a public link, set `share=True` in `launch()`.\n"
     ]
    },
    {
     "data": {
      "text/html": [
       "<div><iframe src=\"http://127.0.0.1:7900/\" width=\"100%\" height=\"500\" allow=\"autoplay; camera; microphone; clipboard-read; clipboard-write;\" frameborder=\"0\" allowfullscreen></iframe></div>"
      ],
      "text/plain": [
       "<IPython.core.display.HTML object>"
      ]
     },
     "metadata": {},
     "output_type": "display_data"
    },
    {
     "data": {
      "text/plain": []
     },
     "execution_count": 129,
     "metadata": {},
     "output_type": "execute_result"
    }
   ],
   "source": [
    "with gr.Blocks() as demo:\n",
    "    with gr.Row():\n",
    "        gr.Markdown(\"# AI Data Generator\")\n",
    "    with gr.Row():\n",
    "        data_type = gr.Dropdown(\n",
    "            [\"Structured Data\", \"Unstructured Data\"], value=\"Structured Data\", label=\"Data Type\", interactive=True\n",
    "        )\n",
    "    with gr.Row():\n",
    "        with gr.Column():\n",
    "            # Structured Data\n",
    "            with gr.Column(visible=True) as structured_inputs:\n",
    "                col_names = gr.Textbox(label=\"Column Names\", placeholder=\"E.g. Name, Sex, Address, Reviews\")\n",
    "                row_num = gr.Number(label=\"Number of Rows\")\n",
    "                data_structure = gr.Dropdown(\n",
    "                    [\"CSV\", \"JSON\"], value=\"CSV\", label=\"Data Format\", interactive=True\n",
    "                )\n",
    "                additional_info = gr.Textbox(\n",
    "                    label=\"Additional Information (optional)\",\n",
    "                    placeholder=\"E.g. Data about product reviews. The Reviews column contains positive and negative reviews. There is no duplicate data.\",\n",
    "                    lines=5\n",
    "                )\n",
    "\n",
    "            # Unstructured Data\n",
    "            with gr.Column(visible=False) as unstructured_inputs:\n",
    "                data_description = gr.Textbox(\n",
    "                    label=\"Data Description\",\n",
    "                    placeholder=\"E.g News about AI developments in Indonesia covers how far AI has developed, comments from policy makers, public responses, and government efforts in implementing AI.\",\n",
    "                    lines=10\n",
    "                )\n",
    "\n",
    "            submit_btn = gr.Button(\"Generate Data\")\n",
    "            \n",
    "        # Output\n",
    "        output_textbox = gr.Textbox(label=\"Generated Data\", lines=20, show_copy_button=True)\n",
    "\n",
    "        # Update UI\n",
    "        def update_ui(selected_type):\n",
    "            return (\n",
    "                gr.update(visible=selected_type == \"Structured Data\"),\n",
    "                gr.update(visible=selected_type == \"Unstructured Data\"),\n",
    "            )\n",
    "        \n",
    "        data_type.change(\n",
    "            fn=update_ui,\n",
    "            inputs=data_type,\n",
    "            outputs=[structured_inputs, unstructured_inputs]\n",
    "        )\n",
    "\n",
    "        # Generate Data\n",
    "        def generate_data(data_type, col_names, row_num, data_structure, additional_info, data_description):\n",
    "            if data_type == \"Structured Data\":\n",
    "                return generate_structured_data(\n",
    "                    col_names,\n",
    "                    row_num,\n",
    "                    data_structure,\n",
    "                    additional_info\n",
    "                )\n",
    "            elif data_type == \"Unstructured Data\":\n",
    "                return generate_unstructured_data(data_description)\n",
    "            else:\n",
    "                return \"Structure of the data is unknown!\"\n",
    "            \n",
    "        submit_btn.click(\n",
    "            fn=generate_data,\n",
    "            inputs=[data_type, col_names, row_num, data_structure, additional_info, data_description],\n",
    "            outputs=output_textbox\n",
    "        )\n",
    "\n",
    "demo.launch()"
   ]
  },
  {
   "cell_type": "code",
   "execution_count": null,
   "id": "0737f65a-f17c-4caa-96cb-eb48dfda92a7",
   "metadata": {},
   "outputs": [],
   "source": []
  },
  {
   "cell_type": "code",
   "execution_count": null,
   "id": "44a864fc-a3b0-4bc0-a615-23d7f74ca686",
   "metadata": {},
   "outputs": [],
   "source": []
  }
 ],
 "metadata": {
  "kernelspec": {
   "display_name": "hugface",
   "language": "python",
   "name": "hugface"
  },
  "language_info": {
   "codemirror_mode": {
    "name": "ipython",
    "version": 3
   },
   "file_extension": ".py",
   "mimetype": "text/x-python",
   "name": "python",
   "nbconvert_exporter": "python",
   "pygments_lexer": "ipython3",
   "version": "3.11.11"
  }
 },
 "nbformat": 4,
 "nbformat_minor": 5
}
